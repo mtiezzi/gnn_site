{
  "cells": [
    {
      "cell_type": "code",
      "execution_count": null,
      "metadata": {
        "collapsed": false
      },
      "outputs": [],
      "source": [
        "%matplotlib inline"
      ]
    },
    {
      "cell_type": "markdown",
      "metadata": {},
      "source": [
        "\n# Net file\n\nThis is the Net file for the clique problem: state and output transition function definition\n"
      ]
    },
    {
      "cell_type": "code",
      "execution_count": null,
      "metadata": {
        "collapsed": false
      },
      "outputs": [],
      "source": [
        "import tensorflow as tf\nimport numpy as np\n\n\ndef weight_variable(shape, nm):\n    '''function to initialize weights'''\n    initial = tf.truncated_normal(shape, stddev=0.1)\n    tf.summary.histogram(nm, initial, collections=['always'])\n    return tf.Variable(initial, name=nm)\n\n\nclass Net:\n    '''class to define state and output network'''\n\n    def __init__(self, input_dim, state_dim, output_dim):\n        '''initialize weight and parameter'''\n        self.EPSILON = 0.00000001\n\n        self.input_dim = input_dim\n        self.state_dim = state_dim\n        self.output_dim = output_dim\n        self.state_input = self.input_dim - 1 + state_dim\n\n        #### TO BE SET FOR A SPECIFIC PROBLEM\n        self.state_l1 = 15\n        self.state_l2 = self.state_dim\n\n        self.output_l1 = 10\n        self.output_l2 = self.output_dim\n\n        # list of weights\n        self.weights = {'State_L1': weight_variable([self.state_input, self.state_l1], \"WEIGHT_STATE_L1\"),\n                        'State_L2': weight_variable([ self.state_l1, self.state_l2], \"WEIGHT_STATE_L1\"),\n\n                        'Output_L1':weight_variable([self.state_l2,self.output_l1], \"WEIGHT_OUTPUT_L1\"),\n                        'Output_L2': weight_variable([self.output_l1, self.output_l2], \"WEIGHT_OUTPUT_L2\")\n                        }\n\n        # list of biases\n        self.biases = {'State_L1': weight_variable([self.state_l1],\"BIAS_STATE_L1\"),\n                       'State_L2': weight_variable([self.state_l2], \"BIAS_STATE_L2\"),\n\n                       'Output_L1':weight_variable([self.output_l1],\"BIAS_OUTPUT_L1\"),\n                       'Output_L2': weight_variable([ self.output_l2], \"BIAS_OUTPUT_L2\")\n                       }\n\n    def netSt(self, inp):\n        with tf.variable_scope('State_net'):\n            # method to define the architecture of the state network\n            layer1 = tf.nn.tanh(tf.add(tf.matmul(inp,self.weights[\"State_L1\"]),self.biases[\"State_L1\"]))\n            layer2 = tf.nn.tanh(tf.add(tf.matmul(layer1, self.weights[\"State_L2\"]), self.biases[\"State_L2\"]))\n\n            return layer2\n\n    def netOut(self, inp):\n        # method to define the architecture of the output network\n        with tf.variable_scope('Out_net'):\n            layer1 = tf.nn.tanh(tf.add(tf.matmul(inp, self.weights[\"Output_L1\"]), self.biases[\"Output_L1\"]))\n            layer2 = tf.nn.softmax(tf.add(tf.matmul(layer1, self.weights[\"Output_L2\"]), self.biases[\"Output_L2\"]))\n\n            return layer2\n\n\n\n    def Loss(self, output, target, output_weight=None):\n        # method to define the loss function\n        #lo=tf.losses.softmax_cross_entropy(target,output)\n        output = tf.maximum(output, self.EPSILON, name=\"Avoiding_explosions\")  # to avoid explosions\n        xent = -tf.reduce_sum(target * tf.log(output), 1)\n        lo = tf.reduce_mean(xent)\n        return lo\n\n\n    def Metric(self, target, output, output_weight=None):\n        # method to define the evaluation metric\n        correct_prediction = tf.equal(tf.argmax(output, 1), tf.argmax(target, 1))\n        metric = tf.reduce_mean(tf.cast(correct_prediction, tf.float32))\n\n        return metric"
      ]
    }
  ],
  "metadata": {
    "kernelspec": {
      "display_name": "Python 3",
      "language": "python",
      "name": "python3"
    },
    "language_info": {
      "codemirror_mode": {
        "name": "ipython",
        "version": 3
      },
      "file_extension": ".py",
      "mimetype": "text/x-python",
      "name": "python",
      "nbconvert_exporter": "python",
      "pygments_lexer": "ipython3",
      "version": "3.8.5"
    }
  },
  "nbformat": 4,
  "nbformat_minor": 0
}