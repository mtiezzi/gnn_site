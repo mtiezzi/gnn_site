{
  "cells": [
    {
      "cell_type": "code",
      "execution_count": null,
      "metadata": {
        "collapsed": false
      },
      "outputs": [],
      "source": [
        "%matplotlib inline"
      ]
    },
    {
      "cell_type": "markdown",
      "metadata": {},
      "source": [
        "\n# Load script utilities\n\nLoad script for recovering python dictionaries from mat files\n"
      ]
    },
    {
      "cell_type": "code",
      "execution_count": null,
      "metadata": {
        "collapsed": false
      },
      "outputs": [],
      "source": [
        "import scipy\nimport scipy.io as spio\nimport numpy as np\n\n\ndef loadmat(filename):\n    '''\n    this function should be called instead of direct spio.loadmat\n    as it cures the problem of not properly recovering python dictionaries\n    from mat files. It calls the function check keys to cure all entries\n    which are still mat-objects\n    '''\n    def _check_keys(d):\n        '''\n        checks if entries in dictionary are mat-objects. If yes\n        todict is called to change them to nested dictionaries\n        '''\n        for key in d:\n            if isinstance(d[key], spio.matlab.mio5_params.mat_struct):\n                d[key] = _todict(d[key])\n        return d\n\n    def _todict(matobj):\n        '''\n        A recursive function which constructs from matobjects nested dictionaries\n        '''\n        d = {}\n        for strg in matobj._fieldnames:\n            elem = matobj.__dict__[strg]\n            if isinstance(elem, spio.matlab.mio5_params.mat_struct):\n                d[strg] = _todict(elem)\n            elif isinstance(elem, np.ndarray):\n                d[strg] = _tolist(elem)\n            else:\n                d[strg] = elem\n        return d\n\n    def _tolist(ndarray):\n        '''\n        A recursive function which constructs lists from cellarrays\n        (which are loaded as numpy ndarrays), recursing into the elements\n        if they contain matobjects.\n        '''\n        elem_list = []\n        for sub_elem in ndarray:\n            if isinstance(sub_elem, spio.matlab.mio5_params.mat_struct):\n                elem_list.append(_todict(sub_elem))\n            elif isinstance(sub_elem, np.ndarray):\n                elem_list.append(_tolist(sub_elem))\n            else:\n                elem_list.append(sub_elem)\n        return elem_list\n    data = scipy.io.loadmat(filename, struct_as_record=False, squeeze_me=True)\n    return _check_keys(data)\n\n#train = loadmat('multi1')\n#print(train)"
      ]
    }
  ],
  "metadata": {
    "kernelspec": {
      "display_name": "Python 3",
      "language": "python",
      "name": "python3"
    },
    "language_info": {
      "codemirror_mode": {
        "name": "ipython",
        "version": 3
      },
      "file_extension": ".py",
      "mimetype": "text/x-python",
      "name": "python",
      "nbconvert_exporter": "python",
      "pygments_lexer": "ipython3",
      "version": "3.8.5"
    }
  },
  "nbformat": 4,
  "nbformat_minor": 0
}