{
  "cells": [
    {
      "cell_type": "code",
      "execution_count": null,
      "metadata": {
        "collapsed": false
      },
      "outputs": [],
      "source": [
        "%matplotlib inline"
      ]
    },
    {
      "cell_type": "markdown",
      "metadata": {},
      "source": [
        "\n# Main file simple\n\nThis is the main file for the simple classification task\n"
      ]
    },
    {
      "cell_type": "code",
      "execution_count": null,
      "metadata": {
        "collapsed": false
      },
      "outputs": [],
      "source": [
        "import tensorflow as tf\nimport numpy as np\nimport gnn_utils\nimport GNN as GNN\nimport Net_Subgraph as n\n\nimport networkx as nx\nimport scipy as sp\n\nimport matplotlib.pyplot as plt\n\n##### GPU & stuff config\nimport os\n\nos.environ['CUDA_VISIBLE_DEVICES'] = \"0\"\nconfig = tf.ConfigProto()\nconfig.gpu_options.allow_growth = True\n\n############# data creation ################\n\n# GRAPH #1\n\n# List of edges in the first graph - last column is the id of the graph to which the arc belongs\ne = [[0, 1, 0], [0,2, 0], [0, 4, 0], [1, 2, 0], [1, 3, 0], [2, 3, 0], [2, 4, 0]]\n# undirected graph, adding other direction\ne.extend([[i, j, num] for j, i, num in e])\n#reorder\ne = sorted(e)\nE = np.asarray(e)\n\n#number of nodes\nedges = 5\n# creating node features - simply one-hot values\nN = np.eye(edges, dtype=np.float32)\n\n# adding column thta represent the id of the graph to which the node belongs\nN = np.concatenate((N, np.zeros((edges,1), dtype=np.float32)),  axis=1 )\n\n\n# visualization graph\ndef plot_graph(E, N):\n    g = nx.Graph()\n    g.add_nodes_from(range(N.shape[0]))\n    g.add_edges_from(E[:, :2])\n    nx.draw_spring(g, cmap=plt.get_cmap('Set1'), with_labels=True)\n    plt.show()\n\n\nplot_graph(E,N)\n\n\n\n# GRAPH #2\n\n# List of edges in the second graph - last column graph-id\ne1 = [[0, 2, 1], [0,3,1], [1, 2,1], [1,3,1], [2,3,1]]\n# undirected graph, adding other direction\ne1.extend([[i, j, num] for j, i, num in e1])\n# reindexing node ids based on the dimension of previous graph (using unique ids)\ne2 = [[a + N.shape[0], b + N.shape[0], num] for a, b, num in e1]\n#reorder\ne2 = sorted(e2)\nedges_2 = 4\n\n\n# Plot second graph\n\nE1 = np.asarray(e1)\nN1 = np.eye(edges_2,  dtype=np.float32)\nN1 = np.concatenate((N1, np.zeros((edges_2,1), dtype=np.float32)),  axis=1 )\n\nplot_graph(E1,N1)\n\nE = np.concatenate((E, np.asarray(e2)), axis=0)\nN_tot = np.eye(edges + edges_2,  dtype=np.float32)\nN_tot = np.concatenate((N_tot, np.zeros((edges + edges_2,1), dtype=np.float32)),  axis=1 )\n\n\n# Create Input to GNN\n\ninp, arcnode, graphnode = gnn_utils.from_EN_to_GNN(E, N_tot)\nlabels = np.random.randint(2, size=(N_tot.shape[0]))\n\nlabels = np.eye(max(labels)+1, dtype=np.int32)[labels]  # one-hot encoding of labels"
      ]
    },
    {
      "cell_type": "markdown",
      "metadata": {},
      "source": [
        "## ###############################################################################################\n\n"
      ]
    },
    {
      "cell_type": "code",
      "execution_count": null,
      "metadata": {
        "collapsed": false
      },
      "outputs": [],
      "source": [
        "# set input and output dim, the maximum number of iterations, the number of epochs and the optimizer\nthreshold = 0.01\nlearning_rate = 0.01\nstate_dim = 5\ntf.reset_default_graph()\ninput_dim = inp.shape[1]\noutput_dim = labels.shape[1]\nmax_it = 50\nnum_epoch = 10000\noptimizer = tf.train.AdamOptimizer\n\n# initialize state and output network\nnet = n.Net(input_dim, state_dim, output_dim)\n\n# initialize GNN\nparam = \"st_d\" + str(state_dim) + \"_th\" + str(threshold) + \"_lr\" + str(learning_rate)\nprint(param)\n\ntensorboard = False\n\ng = GNN.GNN(net, input_dim, output_dim, state_dim,  max_it, optimizer, learning_rate, threshold, graph_based=False, param=param, config=config,\n            tensorboard=tensorboard)\n\n# train the model\ncount = 0\n\n######\n\nfor j in range(0, num_epoch):\n    _, it = g.Train(inputs=inp, ArcNode=arcnode, target=labels, step=count)\n\n    if count % 30 == 0:\n        print(\"Epoch \", count)\n        print(\"Training: \", g.Validate(inp, arcnode, labels, count))\n\n        # end = time.time()\n        # print(\"Epoch {} at time {}\".format(j, end-start))\n        # start = time.time()\n\n    count = count + 1\n\n# evaluate on the test set\n# print(\"\\nEvaluate: \\n\")\n# print(g.Evaluate(inp_test[0], arcnode_test[0], labels_test, nodegraph_test[0])[0])"
      ]
    }
  ],
  "metadata": {
    "kernelspec": {
      "display_name": "Python 3",
      "language": "python",
      "name": "python3"
    },
    "language_info": {
      "codemirror_mode": {
        "name": "ipython",
        "version": 3
      },
      "file_extension": ".py",
      "mimetype": "text/x-python",
      "name": "python",
      "nbconvert_exporter": "python",
      "pygments_lexer": "ipython3",
      "version": "3.8.5"
    }
  },
  "nbformat": 4,
  "nbformat_minor": 0
}