{
  "cells": [
    {
      "cell_type": "code",
      "execution_count": null,
      "metadata": {
        "collapsed": false
      },
      "outputs": [],
      "source": [
        "%matplotlib inline"
      ]
    },
    {
      "cell_type": "markdown",
      "metadata": {},
      "source": [
        "\n# main Karate\n\nThis is the main file for the PyTorch Karate club example\n"
      ]
    },
    {
      "cell_type": "code",
      "execution_count": null,
      "metadata": {
        "collapsed": false
      },
      "outputs": [],
      "source": [
        "import torch\nimport torchvision\nfrom torchvision import datasets, transforms\nimport matplotlib.pyplot as plt\nimport numpy as np\nimport torch.nn as nn\nimport torch.nn.functional as F\nimport argparse\nimport utils\nimport dataloader\n\nfrom gnn_wrapper import GNNWrapper, SemiSupGNNWrapper\n\n\n#\n# # fix random seeds for reproducibility\n# SEED = 123\n# torch.manual_seed(SEED)\n# torch.backends.cudnn.deterministic = True\n# torch.backends.cudnn.benchmark = False\n# np.random.seed(SEED)\n\n\ndef main():\n    # Training settings\n    parser = argparse.ArgumentParser(description='PyTorch')\n    parser.add_argument('--batch-size', type=int, default=64, metavar='N',\n                        help='input batch size for training (default: 64)')\n    parser.add_argument('--test-batch-size', type=int, default=100, metavar='N',\n                        help='input batch size for testing (default: 100)')\n    parser.add_argument('--epochs', type=int, default=100000, metavar='N',\n                        help='number of epochs to train (default: 10)')\n    parser.add_argument('--lr', type=float, default=0.0001, metavar='LR',\n                        help='learning rate (default: 0.0001)')\n    parser.add_argument('--momentum', type=float, default=0.5, metavar='M',\n                        help='SGD momentum (default: 0.5)')\n    parser.add_argument('--no-cuda', action='store_true', default=False,\n                        help='disables CUDA training')\n    parser.add_argument('--cuda_dev', type=int, default=0,\n                        help='select specific CUDA device for training')\n    parser.add_argument('--n_gpu_use', type=int, default=1,\n                        help='select number of CUDA device for training')\n    # parser.add_argument('--seed', type=int, default=1, metavar='S',\n    #                     help='random seed (default: 1)')\n    parser.add_argument('--log-interval', type=int, default=50, metavar='N',\n                        help='logging training status cadency')\n    parser.add_argument('--save-model', action='store_true', default=False,\n                        help='For Saving the current Model')\n    parser.add_argument('--tensorboard', action='store_true', default=True,\n                        help='For logging the model in tensorboard')\n\n    args = parser.parse_args()\n\n    use_cuda = not args.no_cuda and torch.cuda.is_available()\n    if not use_cuda:\n        args.n_gpu_use = 0\n\n    device = utils.prepare_device(n_gpu_use=args.n_gpu_use, gpu_id=args.cuda_dev)\n    # kwargs = {'num_workers': 1, 'pin_memory': True} if use_cuda else {}\n\n    # torch.manual_seed(args.seed)\n    # # fix random seeds for reproducibility\n    # SEED = 123\n    # torch.manual_seed(SEED)\n    # torch.backends.cudnn.deterministic = True\n    # torch.backends.cudnn.benchmark = False\n    # np.random.seed(SEED)\n\n    # configugations\n    cfg = GNNWrapper.Config()\n    cfg.use_cuda = use_cuda\n    cfg.device = device\n\n    cfg.log_interval = args.log_interval\n    cfg.tensorboard = args.tensorboard\n\n    # cfg.batch_size = args.batch_size\n    # cfg.test_batch_size = args.test_batch_size\n    # cfg.momentum = args.momentum\n\n    cfg.dataset_path = './data'\n    cfg.epochs = args.epochs\n    cfg.lrw = args.lr\n    cfg.activation = nn.Tanh()\n    cfg.state_transition_hidden_dims = [5,]\n    cfg.output_function_hidden_dims = [5]\n    cfg.state_dim = 2\n    cfg.max_iterations = 50\n    cfg.convergence_threshold = 0.01\n    cfg.graph_based = False\n    cfg.log_interval = 10\n    cfg.task_type = \"semisupervised\"\n\n    cfg.lrw = 0.001\n\n    # model creation\n    model = SemiSupGNNWrapper(cfg)\n    # dataset creation\n    E, N, targets, mask_train, mask_test = dataloader.old_load_karate()\n    dset = dataloader.from_EN_to_GNN(E, N, targets, aggregation_type=\"sum\", sparse_matrix=True)  # generate the dataset\n    dset.idx_train = mask_train\n    dset.idx_test = mask_test\n    model(dset)  # dataset initalization into the GNN\n\n    # training code\n    for epoch in range(1, args.epochs + 1):\n        model.train_step(epoch)\n\n        if epoch % 10 == 0:\n            model.test_step(epoch)\n    # model.test_step()\n\n    # if args.save_model:\n    #     torch.save(model.gnn.state_dict(), \"mnist_cnn.pt\")\n\n\nif __name__ == '__main__':\n    main()"
      ]
    }
  ],
  "metadata": {
    "kernelspec": {
      "display_name": "Python 3",
      "language": "python",
      "name": "python3"
    },
    "language_info": {
      "codemirror_mode": {
        "name": "ipython",
        "version": 3
      },
      "file_extension": ".py",
      "mimetype": "text/x-python",
      "name": "python",
      "nbconvert_exporter": "python",
      "pygments_lexer": "ipython3",
      "version": "3.8.5"
    }
  },
  "nbformat": 4,
  "nbformat_minor": 0
}