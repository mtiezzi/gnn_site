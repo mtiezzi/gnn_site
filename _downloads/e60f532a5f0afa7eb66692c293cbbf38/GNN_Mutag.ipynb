{
  "cells": [
    {
      "cell_type": "code",
      "execution_count": null,
      "metadata": {
        "collapsed": false
      },
      "outputs": [],
      "source": [
        "%matplotlib inline"
      ]
    },
    {
      "cell_type": "markdown",
      "metadata": {},
      "source": [
        "\n# Main file mutag\n\nThis is the main file for the mutag classification task\n"
      ]
    },
    {
      "cell_type": "code",
      "execution_count": null,
      "metadata": {
        "collapsed": false
      },
      "outputs": [],
      "source": [
        "import numpy as np\nimport gnn_utils\nimport GNN as GNN\nimport Net_Mutag as n\nimport tensorflow as tf\nimport load as ld\nfrom scipy.sparse import coo_matrix\nimport os\n\n\n\nos.environ['CUDA_VISIBLE_DEVICES'] = \"0\"\nconfig = tf.ConfigProto()\nconfig.gpu_options.allow_growth = True\n\n#############   DATA LOADING    ##################################################\n# function to get a fold\ndef getFold(fold):\n    # load dataset\n    train = ld.loadmat(\"./Data/Mutag/multi\" + str(fold))\n    train = train['multi' + str(fold)]\n\n    ############ training set #############\n\n    ret_train = gnn_utils.set_load_mutag(\"train\", train)\n\n    ###########validation#####################\n\n    ret_val = gnn_utils.set_load_mutag(\"validation\", train)\n\n    ########### test #####################\n\n    ret_test = gnn_utils.set_load_mutag(\"test\", train)\n\n    return ret_train, ret_val, ret_test\n\n\n# create the 10-fold in order to train on 10-fold cross validation\ntr, val, ts = [], [], []\nfor fold in range(1, 11):\n    a, b, c = getFold(fold)\n    tr.append(a)\n    val.append(b)\n    ts.append(c)\n\n# set parameter\nthreshold = 0.001\nlearning_rate = 0.0001\nstate_dim = 5\nmax_it = 50\nnum_epoch = 1000\noptimizer = tf.train.AdamOptimizer\n\noutput_dim = 2\n\ntestacc = []\n\nfor fold in range(0, 10):\n\n    tf.reset_default_graph()\n    param = \"st_d\" + str(state_dim) + \"_th\" + str(threshold) + \"_lr\" + str(learning_rate)\n    completeName = param + 'log.txt'\n    param = param + \"_fold\" + str(fold)\n    print(param)\n\n\n    # retrieve input, arcnode, nodegraph and target for training set\n    inp = tr[fold][0]\n    input_dim = len(inp[0][0])\n\n    arcnode = tr[fold][1]\n    labels = tr[fold][4]\n    nodegraph = tr[fold][2]\n\n    # retrieve input, arcnode, nodegraph and target for validation set\n    inp_val = val[fold][0]\n    arcnode_val = val[fold][1]\n    labels_val = val[fold][4]\n    nodegraph_val = val[fold][2]\n\n    # initialize network\n    net = n.Net(input_dim, state_dim, output_dim)\n\n\n    # instantiate GNN\n    g = GNN.GNN(net, input_dim, output_dim, state_dim,  max_it, optimizer, learning_rate, threshold, graph_based=True,\n                param=param, config=config)\n\n    # train GNN, and validate every 2 epochs, (early stopping)\n    count = 0\n    valid_best = None\n    patience = 0\n    for j in range(0, num_epoch):\n        g.Train(inp[0], arcnode[0], labels, count, nodegraph[0])\n        print(\"Epoch \", j)\n        if count % 2 == 0:\n\n            loss = g.Validate(inp_val[0], arcnode_val[0], labels_val, count, nodegraph_val[0])\n            if count == 0:\n                valid_best = loss\n\n            if loss < valid_best:\n                valid_best = loss\n                #save_path = g.saver.save(g.session, g.save_path)\n                patience = 0\n            else:\n                patience += 1\n\n            if patience > 5:\n                print(\"Early stopping...\")\n                break\n        count = count + 1\n\n    # retrieve input, arcnode, nodegraph and target for test set\n    inp_test = ts[fold][0]\n    arcnode_test = ts[fold][1]\n    labels_test = ts[fold][4]\n    nodegraph_test = ts[fold][2]\n    print('Accuracy on test set fold ', fold, ' :')\n\n    # evaluate on the test set fold\n    evel = g.Evaluate(inp_test[0], arcnode_test[0], labels_test, nodegraph_test[0])\n    testacc.append(evel)\n    print(evel)\n    with open(os.path.join('tmp/', completeName), \"a\") as file:\n        file.write('Accuracy on test set fold ' + str(fold) + ' :')\n        file.write(str(evel) + '\\n')\n        file.write('\\n')\n        file.close()\n\n# mean accuracy on the 10-fold\nmean_acc = np.mean(np.asarray(testacc))\nprint('Mean accuracy from all folds:', mean_acc)"
      ]
    }
  ],
  "metadata": {
    "kernelspec": {
      "display_name": "Python 3",
      "language": "python",
      "name": "python3"
    },
    "language_info": {
      "codemirror_mode": {
        "name": "ipython",
        "version": 3
      },
      "file_extension": ".py",
      "mimetype": "text/x-python",
      "name": "python",
      "nbconvert_exporter": "python",
      "pygments_lexer": "ipython3",
      "version": "3.8.5"
    }
  },
  "nbformat": 4,
  "nbformat_minor": 0
}