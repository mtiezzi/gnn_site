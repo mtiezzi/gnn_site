{
  "cells": [
    {
      "cell_type": "code",
      "execution_count": null,
      "metadata": {
        "collapsed": false
      },
      "outputs": [],
      "source": [
        "%matplotlib inline"
      ]
    },
    {
      "cell_type": "markdown",
      "metadata": {},
      "source": [
        "\nMain file karate\n================\n\nThis is the main file for the karate classification task\n"
      ]
    },
    {
      "cell_type": "code",
      "execution_count": null,
      "metadata": {
        "collapsed": false
      },
      "outputs": [],
      "source": [
        "import tensorflow as tf\nimport numpy as np\nimport gnn_utils\nimport GNN as GNN\nimport Net_Karate as n\nfrom scipy.sparse import coo_matrix\n\n##### GPU & stuff config\nimport os\n\nos.environ['CUDA_VISIBLE_DEVICES'] = \"0\"\nconfig = tf.ConfigProto()\nconfig.gpu_options.allow_growth = True\n\n############# training set ################\n\n\nE, N, labels = gnn_utils.load_karate()\ninp, arcnode, graphnode = gnn_utils.from_EN_to_GNN(E, N)\n\n# set input and output dim, the maximum number of iterations, the number of epochs and the optimizer\nthreshold = 0.01\nlearning_rate = 0.01\nstate_dim = 5\ntf.reset_default_graph()\ninput_dim = inp.shape[1]\noutput_dim = labels.shape[1]\nmax_it = 50\nnum_epoch = 10000\noptimizer = tf.train.AdamOptimizer\n\n# initialize state and output network\nnet = n.Net(input_dim, state_dim, output_dim)\n\n# initialize GNN\nparam = \"st_d\" + str(state_dim) + \"_th\" + str(threshold) + \"_lr\" + str(learning_rate)\nprint(param)\n\ntensorboard = False\n\ng = GNN.GNN(net, input_dim, output_dim, state_dim,  max_it, optimizer, learning_rate, threshold, graph_based=False, param=param, config=config,\n            tensorboard=tensorboard)\n\n# train the model\ncount = 0\n\n######\n\nfor j in range(0, num_epoch):\n    _, it = g.Train(inputs=inp, ArcNode=arcnode, target=labels, step=count)\n\n    if count % 30 == 0:\n        print(\"Epoch \", count)\n        print(\"Training: \", g.Validate(inp, arcnode, labels, count))\n\n        # end = time.time()\n        # print(\"Epoch {} at time {}\".format(j, end-start))\n        # start = time.time()\n\n    count = count + 1\n\n# evaluate on the test set\n#print(\"\\nEvaluate: \\n\")\n#print(g.Evaluate(inp_test[0], arcnode_test[0], labels_test, nodegraph_test[0])[0])"
      ]
    }
  ],
  "metadata": {
    "kernelspec": {
      "display_name": "Python 3",
      "language": "python",
      "name": "python3"
    },
    "language_info": {
      "codemirror_mode": {
        "name": "ipython",
        "version": 3
      },
      "file_extension": ".py",
      "mimetype": "text/x-python",
      "name": "python",
      "nbconvert_exporter": "python",
      "pygments_lexer": "ipython3",
      "version": "3.7.3"
    }
  },
  "nbformat": 4,
  "nbformat_minor": 0
}