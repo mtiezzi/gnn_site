{
  "metadata": {
    "language_info": {
      "file_extension": ".py",
      "mimetype": "text/x-python",
      "nbconvert_exporter": "python",
      "name": "python",
      "codemirror_mode": {
        "version": 3,
        "name": "ipython"
      },
      "pygments_lexer": "ipython3",
      "version": "3.5.2"
    },
    "kernelspec": {
      "display_name": "Python 3",
      "language": "python",
      "name": "python3"
    }
  },
  "nbformat_minor": 0,
  "nbformat": 4,
  "cells": [
    {
      "outputs": [],
      "metadata": {
        "collapsed": false
      },
      "cell_type": "code",
      "execution_count": null,
      "source": [
        "%matplotlib inline"
      ]
    },
    {
      "metadata": {},
      "cell_type": "markdown",
      "source": [
        "\nLibrary\n=======\n\nCommon utilities for data loading and preparation\n\n"
      ]
    },
    {
      "outputs": [],
      "metadata": {
        "collapsed": false
      },
      "cell_type": "code",
      "execution_count": null,
      "source": [
        "import numpy as np\nimport pandas as pd\nimport scipy.io as sio\nimport os\nfrom scipy.sparse import coo_matrix\n\n\ndef GetInput(mat, lab, batch=1, grafi=None):\n    # numero di batch\n    batch_number = grafi.max() // batch\n\n    dmat = pd.DataFrame(mat, columns=[\"id_1\", \"id_2\"])\n    dlab = pd.DataFrame(lab, columns=[\"lab\" + str(i) for i in range(0, lab.shape[1])])\n    # darch=pd.DataFrame(arc, columns=[\"arch\"+str(i) for i in range(0,arc.shape[1])])\n    dgr = pd.DataFrame(grafi, columns=[\"graph\"])\n\n    dresult = dmat\n    dresult = pd.merge(dresult, dlab, left_on=\"id_1\", right_index=True, how='left')\n    dresult = pd.merge(dresult, dlab, left_on=\"id_2\", right_index=True, how='left')\n    # dresult=pd.concat([dresult, darch], axis=1)\n    dresult = pd.merge(dresult, dgr, left_on=\"id_1\", right_index=True, how='left')\n\n    data_batch = []\n    arcnode_batch = []\n    nodegraph_batch = []\n    node_in = []\n    for i in range(0, batch_number + 1):\n\n        # prendo i dati\n        grafo_indexMin = (i * batch)\n        grafo_indexMax = (i * batch) + batch\n\n        adj = dresult.loc[(dresult[\"graph\"] >= grafo_indexMin) & (dresult[\"graph\"] < grafo_indexMax)]\n        min_id = adj[[\"id_1\", \"id_2\"]].min(axis=0).min()\n\n        adj[\"id_1\"] = adj[\"id_1\"] - min_id\n        adj[\"id_2\"] = adj[\"id_2\"] - min_id\n\n        min_gr = adj[\"graph\"].min()\n        adj[\"graph\"] = adj[\"graph\"] - min_gr\n\n        data_batch.append(adj.values[:, 1:-1])\n\n        # arcMat\n        max_id = int(adj[[\"id_1\", \"id_2\"]].max(axis=0).max())\n\n        max_gr = int(adj[\"graph\"].max())\n\n        mt = adj[[\"id_1\", \"id_2\"]].values\n\n        arcnode = np.zeros((mt.shape[0], max_id + 1))\n        for j in range(0, mt.shape[0]):\n            arcnode[j][mt[j][0]] = 1\n\n        arcnode_batch.append(arcnode)\n\n        # nodegraph\n        nodegraph = np.zeros((max_id + 1, max_gr + 1))\n\n        for t in range(0, max_id + 1):\n            val = adj[[\"graph\"]].loc[(adj[\"id_1\"] == t) | (adj[\"id_2\"] == t)].values[0]\n            nodegraph[t][val] = 1\n\n        nodegraph_batch.append(nodegraph)\n        # node number in each graph\n        grbtc = dgr.loc[(dgr[\"graph\"] >= grafo_indexMin) & (dgr[\"graph\"] < grafo_indexMax)]\n        node_in.append(grbtc.groupby([\"graph\"]).size().values)\n\n    return data_batch, arcnode_batch, nodegraph_batch, node_in\n\n\ndef set_load_subgraph(data_path, set_type):\n    # load adjacency list\n    types = [\"train\", \"valid\", \"test\"]\n    try:\n        if set_type not in types:\n            raise NameError('Wrong set name!')\n\n        # load adjacency list\n        mat = sio.loadmat(os.path.join(data_path, 'conmat{}.mat'.format(set_type)))\n        adj = coo_matrix(mat[\"conmat_{}set\".format(set_type)])\n        adj = np.array([adj.row, adj.col]).T\n\n        # load node label\n        mat = sio.loadmat(os.path.join(data_path, \"nodelab{}.mat\".format(set_type)))\n        lab = np.asarray(mat[\"nodelab_{}set\".format(set_type)]).T\n\n        # load target and convert to one-hot encoding\n        mat = sio.loadmat(os.path.join(data_path, \"tar{}.mat\".format(set_type)))\n        target = np.asarray(mat[\"target_{}set\".format(set_type)]).T\n        labels = pd.get_dummies(pd.Series(target.reshape(-1)))\n        labels = labels.values\n        # compute inputs and arcnode\n        inp, arcnode, nodegraph, nodein = GetInput(adj, lab, 1, np.zeros(700, dtype=int))\n        return inp, arcnode, nodegraph, nodein, labels\n\n    except Exception as e:\n        print(\"Caught exception: \", e)\n        exit(1)\n\ndef set_load_clique(data_path, set_type):\n    import load as ld\n    # load adjacency list\n    types = [\"train\", \"validation\", \"test\"]\n    train = ld.loadmat(os.path.join(data_path, \"cliquedataset.mat\"))\n    train = train[\"dataSet\"]\n    try:\n        if set_type not in types:\n            raise NameError('Wrong set name!')\n\n        # load adjacency list\n        # take adjacency list\n        adj = coo_matrix(train['{}Set'.format(set_type)]['connMatrix'])\n        adj = np.array([adj.row, adj.col]).T\n\n        # take node labels\n        lab = np.asarray(train['{}Set'.format(set_type)]['nodeLabels']).T\n\n        # take targets and convert to one-hot encoding\n        target = np.asarray(train['{}Set'.format(set_type)]['targets']).T\n        labels = pd.get_dummies(pd.Series(target))\n        labels = labels.values\n\n        # compute inputs and arcnode\n        get_lab = lab.reshape(lab.shape[0], 1) if set_type == \"train\" else lab.reshape(700, 1)\n        inp, arcnode, nodegraph, nodein = GetInput(adj, get_lab, 1,\n                                                           np.zeros(700, dtype=int))\n        return inp, arcnode, nodegraph, nodein, labels\n\n    except Exception as e:\n        print(\"Caught exception: \", e)\n        exit(1)\n\n\ndef set_load_mutag(set_type, train):\n    # load adjacency list\n    types = [\"train\", \"validation\", \"test\"]\n    try:\n        if set_type not in types:\n            raise NameError('Wrong set name!')\n\n            ############ training set #############\n\n            # take adjacency list\n        adj = coo_matrix(train['{}Set'.format(set_type)]['connMatrix'])\n        adj = np.array([adj.row, adj.col]).T\n\n        # take node labels\n        lab = np.asarray(train['{}Set'.format(set_type)]['nodeLabels']).T\n        mask = coo_matrix(train['{}Set'.format(set_type)][\"maskMatrix\"])\n\n        # take target, generate output for each graph, and convert to one-hot encoding\n        target = np.asarray(train['{}Set'.format(set_type)]['targets']).T\n        v = mask.col\n        target = np.asarray([target[x] for x in v])\n        # target = target[target != 0] # equivalent code\n        labels = pd.get_dummies(pd.Series(target))\n        labels = labels.values\n\n        # build graph indices\n        gr = np.array(mask.col)\n        indicator = []\n        for j in range(0, len(gr) - 1):\n            for i in range(gr[j], gr[j + 1]):\n                indicator.append(j)\n        for i in range(gr[-1], adj.max() + 1):\n            indicator.append(len(gr) - 1)\n        indicator = np.asarray(indicator)\n\n        # take input, arcnode matrix, nodegraph matrix\n        inp, arcnode, nodegraph, nodein = GetInput(adj, lab, indicator.max() + 1, indicator)\n\n        return inp, arcnode, nodegraph, nodein, labels\n\n    except Exception as e:\n        print(\"Caught exception: \", e)\n        exit(1)"
      ]
    }
  ]
}