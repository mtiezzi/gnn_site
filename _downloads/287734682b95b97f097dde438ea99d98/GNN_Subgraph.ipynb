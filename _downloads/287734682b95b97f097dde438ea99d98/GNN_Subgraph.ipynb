{
  "cells": [
    {
      "cell_type": "code",
      "execution_count": null,
      "metadata": {
        "collapsed": false
      },
      "outputs": [],
      "source": [
        "%matplotlib inline"
      ]
    },
    {
      "cell_type": "markdown",
      "metadata": {},
      "source": [
        "\n# Main file subgraph\n\nThis is the main file for the subgraph classification task\n"
      ]
    },
    {
      "cell_type": "code",
      "execution_count": null,
      "metadata": {
        "collapsed": false
      },
      "outputs": [],
      "source": [
        "import tensorflow as tf\nimport numpy as np\nimport gnn_utils\nimport GNN as GNN\nimport Net_Subgraph as n\nfrom scipy.sparse import coo_matrix\n\n##### GPU & stuff config\nimport os\n\nos.environ['CUDA_VISIBLE_DEVICES'] = \"0\"\nconfig = tf.ConfigProto()\nconfig.gpu_options.allow_growth = True\ndata_path = \"./data\"\n#data_path = \"./Clique\"\nset_name = \"sub_15_7_200\"\n############# training set ################\n\n\n#inp, arcnode, nodegraph, nodein, labels = Library.set_load_subgraph(data_path, \"train\")\ninp, arcnode, nodegraph, nodein, labels, _ = gnn_utils.set_load_general(data_path, \"train\", set_name=set_name)\n############ test set ####################\n\n#inp_test, arcnode_test, nodegraph_test, nodein_test, labels_test = Library.set_load_subgraph(data_path, \"test\")\ninp_test, arcnode_test, nodegraph_test, nodein_test, labels_test, _ = gnn_utils.set_load_general(data_path, \"test\", set_name=set_name)\n\n############ validation set #############\n\n#inp_val, arcnode_val, nodegraph_val, nodein_val, labels_val = Library.set_load_subgraph(data_path, \"valid\")\ninp_val, arcnode_val, nodegraph_val, nodein_val, labels_val, _ = gnn_utils.set_load_general(data_path, \"validation\", set_name=set_name)\n\n# set input and output dim, the maximum number of iterations, the number of epochs and the optimizer\nthreshold = 0.01\nlearning_rate = 0.01\nstate_dim = 5\ntf.reset_default_graph()\ninput_dim = len(inp[0][0])\noutput_dim = 2\nmax_it = 50\nnum_epoch = 10000\noptimizer = tf.train.AdamOptimizer\n\n# initialize state and output network\nnet = n.Net(input_dim, state_dim, output_dim)\n\n# initialize GNN\nparam = \"st_d\" + str(state_dim) + \"_th\" + str(threshold) + \"_lr\" + str(learning_rate)\nprint(param)\n\ntensorboard = False\n\ng = GNN.GNN(net, input_dim, output_dim, state_dim,  max_it, optimizer, learning_rate, threshold, graph_based=False, param=param, config=config,\n            tensorboard=tensorboard)\n\n# train the model\ncount = 0\n\n######\n\nfor j in range(0, num_epoch):\n    _, it = g.Train(inputs=inp[0], ArcNode=arcnode[0], target=labels, step=count)\n\n    if count % 30 == 0:\n        print(\"Epoch \", count)\n        print(\"Validation: \", g.Validate(inp_val[0], arcnode_val[0], labels_val, count))\n\n        # end = time.time()\n        # print(\"Epoch {} at time {}\".format(j, end-start))\n        # start = time.time()\n\n    count = count + 1\n\n# evaluate on the test set\nprint(\"\\nEvaluate: \\n\")\nprint(g.Evaluate(inp_test[0], arcnode_test[0], labels_test, nodegraph_test[0])[0])"
      ]
    }
  ],
  "metadata": {
    "kernelspec": {
      "display_name": "Python 3",
      "language": "python",
      "name": "python3"
    },
    "language_info": {
      "codemirror_mode": {
        "name": "ipython",
        "version": 3
      },
      "file_extension": ".py",
      "mimetype": "text/x-python",
      "name": "python",
      "nbconvert_exporter": "python",
      "pygments_lexer": "ipython3",
      "version": "3.8.5"
    }
  },
  "nbformat": 4,
  "nbformat_minor": 0
}